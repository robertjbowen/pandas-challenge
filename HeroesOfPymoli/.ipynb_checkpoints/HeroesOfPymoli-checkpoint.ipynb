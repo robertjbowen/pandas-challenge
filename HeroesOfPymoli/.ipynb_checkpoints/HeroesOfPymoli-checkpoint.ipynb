{
 "cells": [
  {
   "cell_type": "markdown",
   "metadata": {},
   "source": [
    "### Note\n",
    "* Instructions have been included for each segment. You do not have to follow them exactly, but they are included to help you think through the steps."
   ]
  },
  {
   "cell_type": "code",
   "execution_count": 36,
   "metadata": {},
   "outputs": [
    {
     "name": "stdout",
     "output_type": "stream",
     "text": [
      "780\n",
      "576\n"
     ]
    },
    {
     "data": {
      "text/html": [
       "<div>\n",
       "<style scoped>\n",
       "    .dataframe tbody tr th:only-of-type {\n",
       "        vertical-align: middle;\n",
       "    }\n",
       "\n",
       "    .dataframe tbody tr th {\n",
       "        vertical-align: top;\n",
       "    }\n",
       "\n",
       "    .dataframe thead th {\n",
       "        text-align: right;\n",
       "    }\n",
       "</style>\n",
       "<table border=\"1\" class=\"dataframe\">\n",
       "  <thead>\n",
       "    <tr style=\"text-align: right;\">\n",
       "      <th></th>\n",
       "      <th>Purchase ID</th>\n",
       "      <th>SN</th>\n",
       "      <th>Age</th>\n",
       "      <th>Gender</th>\n",
       "      <th>Item ID</th>\n",
       "      <th>Item Name</th>\n",
       "      <th>Price</th>\n",
       "    </tr>\n",
       "  </thead>\n",
       "  <tbody>\n",
       "    <tr>\n",
       "      <th>0</th>\n",
       "      <td>0</td>\n",
       "      <td>Lisim78</td>\n",
       "      <td>20</td>\n",
       "      <td>Male</td>\n",
       "      <td>108</td>\n",
       "      <td>Extraction, Quickblade Of Trembling Hands</td>\n",
       "      <td>3.53</td>\n",
       "    </tr>\n",
       "    <tr>\n",
       "      <th>1</th>\n",
       "      <td>1</td>\n",
       "      <td>Lisovynya38</td>\n",
       "      <td>40</td>\n",
       "      <td>Male</td>\n",
       "      <td>143</td>\n",
       "      <td>Frenzied Scimitar</td>\n",
       "      <td>1.56</td>\n",
       "    </tr>\n",
       "    <tr>\n",
       "      <th>2</th>\n",
       "      <td>2</td>\n",
       "      <td>Ithergue48</td>\n",
       "      <td>24</td>\n",
       "      <td>Male</td>\n",
       "      <td>92</td>\n",
       "      <td>Final Critic</td>\n",
       "      <td>4.88</td>\n",
       "    </tr>\n",
       "    <tr>\n",
       "      <th>3</th>\n",
       "      <td>3</td>\n",
       "      <td>Chamassasya86</td>\n",
       "      <td>24</td>\n",
       "      <td>Male</td>\n",
       "      <td>100</td>\n",
       "      <td>Blindscythe</td>\n",
       "      <td>3.27</td>\n",
       "    </tr>\n",
       "    <tr>\n",
       "      <th>4</th>\n",
       "      <td>4</td>\n",
       "      <td>Iskosia90</td>\n",
       "      <td>23</td>\n",
       "      <td>Male</td>\n",
       "      <td>131</td>\n",
       "      <td>Fury</td>\n",
       "      <td>1.44</td>\n",
       "    </tr>\n",
       "  </tbody>\n",
       "</table>\n",
       "</div>"
      ],
      "text/plain": [
       "   Purchase ID             SN  Age Gender  Item ID  \\\n",
       "0            0        Lisim78   20   Male      108   \n",
       "1            1    Lisovynya38   40   Male      143   \n",
       "2            2     Ithergue48   24   Male       92   \n",
       "3            3  Chamassasya86   24   Male      100   \n",
       "4            4      Iskosia90   23   Male      131   \n",
       "\n",
       "                                   Item Name  Price  \n",
       "0  Extraction, Quickblade Of Trembling Hands   3.53  \n",
       "1                          Frenzied Scimitar   1.56  \n",
       "2                               Final Critic   4.88  \n",
       "3                                Blindscythe   3.27  \n",
       "4                                       Fury   1.44  "
      ]
     },
     "execution_count": 36,
     "metadata": {},
     "output_type": "execute_result"
    }
   ],
   "source": [
    "# Dependencies and Setup\n",
    "import pandas as pd\n",
    "\n",
    "# File to Load (Remember to Change These)\n",
    "file_to_load = \"Resources/purchase_data.csv\"\n",
    "\n",
    "# Read Purchasing File and store into Pandas data frame\n",
    "purchase_data = pd.read_csv(file_to_load)\n",
    "# Copied dataframe and removed duplicate players to enable age and gender analysis of the player population\n",
    "player_data = purchase_data.copy()\n",
    "player_data['SN'] = player_data['SN'].drop_duplicates()\n",
    "player_data = player_data.dropna(how='any')\n",
    "# length check to confirm cleaned data set and printed a check of the data set columns\n",
    "print(len(purchase_data))\n",
    "print(len(player_data))\n",
    "purchase_data.head()"
   ]
  },
  {
   "cell_type": "markdown",
   "metadata": {},
   "source": [
    "## Player Count"
   ]
  },
  {
   "cell_type": "markdown",
   "metadata": {},
   "source": [
    "* Display the total number of players\n"
   ]
  },
  {
   "cell_type": "code",
   "execution_count": 37,
   "metadata": {},
   "outputs": [
    {
     "data": {
      "text/html": [
       "<div>\n",
       "<style scoped>\n",
       "    .dataframe tbody tr th:only-of-type {\n",
       "        vertical-align: middle;\n",
       "    }\n",
       "\n",
       "    .dataframe tbody tr th {\n",
       "        vertical-align: top;\n",
       "    }\n",
       "\n",
       "    .dataframe thead th {\n",
       "        text-align: right;\n",
       "    }\n",
       "</style>\n",
       "<table border=\"1\" class=\"dataframe\">\n",
       "  <thead>\n",
       "    <tr style=\"text-align: right;\">\n",
       "      <th></th>\n",
       "      <th>Total Players</th>\n",
       "    </tr>\n",
       "  </thead>\n",
       "  <tbody>\n",
       "    <tr>\n",
       "      <th>0</th>\n",
       "      <td>576</td>\n",
       "    </tr>\n",
       "  </tbody>\n",
       "</table>\n",
       "</div>"
      ],
      "text/plain": [
       "   Total Players\n",
       "0            576"
      ]
     },
     "execution_count": 37,
     "metadata": {},
     "output_type": "execute_result"
    }
   ],
   "source": [
    "# Creates a data frame and calculates the length of the list of unique player 'SN' values to determine total number of players\n",
    "total_players = pd.DataFrame({\"Total Players\":[len(purchase_data['SN'].unique())]})\n",
    "total_players"
   ]
  },
  {
   "cell_type": "markdown",
   "metadata": {},
   "source": [
    "## Purchasing Analysis (Total)"
   ]
  },
  {
   "cell_type": "markdown",
   "metadata": {},
   "source": [
    "* Run basic calculations to obtain number of unique items, average price, etc.\n",
    "\n",
    "\n",
    "* Create a summary data frame to hold the results\n",
    "\n",
    "\n",
    "* Optional: give the displayed data cleaner formatting\n",
    "\n",
    "\n",
    "* Display the summary data frame\n"
   ]
  },
  {
   "cell_type": "code",
   "execution_count": 38,
   "metadata": {
    "scrolled": true
   },
   "outputs": [
    {
     "data": {
      "text/html": [
       "<style  type=\"text/css\" >\n",
       "</style><table id=\"T_c6accfdc_084e_11eb_a2e3_34028626466f\" ><thead>    <tr>        <th class=\"blank level0\" ></th>        <th class=\"col_heading level0 col0\" >Number of Unique Items</th>        <th class=\"col_heading level0 col1\" >Average Price</th>        <th class=\"col_heading level0 col2\" >Number of Purchases</th>        <th class=\"col_heading level0 col3\" >Total Revenue</th>    </tr></thead><tbody>\n",
       "                <tr>\n",
       "                        <th id=\"T_c6accfdc_084e_11eb_a2e3_34028626466flevel0_row0\" class=\"row_heading level0 row0\" >0</th>\n",
       "                        <td id=\"T_c6accfdc_084e_11eb_a2e3_34028626466frow0_col0\" class=\"data row0 col0\" >179</td>\n",
       "                        <td id=\"T_c6accfdc_084e_11eb_a2e3_34028626466frow0_col1\" class=\"data row0 col1\" >$3.05</td>\n",
       "                        <td id=\"T_c6accfdc_084e_11eb_a2e3_34028626466frow0_col2\" class=\"data row0 col2\" >780</td>\n",
       "                        <td id=\"T_c6accfdc_084e_11eb_a2e3_34028626466frow0_col3\" class=\"data row0 col3\" >$2,379.77</td>\n",
       "            </tr>\n",
       "    </tbody></table>"
      ],
      "text/plain": [
       "<pandas.io.formats.style.Styler at 0x17bb00e7700>"
      ]
     },
     "execution_count": 38,
     "metadata": {},
     "output_type": "execute_result"
    }
   ],
   "source": [
    "summary_data = pd.DataFrame({\"Number of Unique Items\":[len(purchase_data['Item Name'].unique())],\n",
    "                             \"Average Price\":[purchase_data['Price'].mean()],\n",
    "                            \"Number of Purchases\":[purchase_data['Purchase ID'].count()],\n",
    "                             \"Total Revenue\":[purchase_data['Price'].sum()]})\n",
    "summary_data.style.format({'Average Price': '${:,.2f}'.format,'Total Revenue': '${:,.2f}'.format})"
   ]
  },
  {
   "cell_type": "markdown",
   "metadata": {},
   "source": [
    "## Gender Demographics"
   ]
  },
  {
   "cell_type": "markdown",
   "metadata": {},
   "source": [
    "* Percentage and Count of Male Players\n",
    "\n",
    "\n",
    "* Percentage and Count of Female Players\n",
    "\n",
    "\n",
    "* Percentage and Count of Other / Non-Disclosed\n",
    "\n",
    "\n"
   ]
  },
  {
   "cell_type": "code",
   "execution_count": 39,
   "metadata": {
    "scrolled": true
   },
   "outputs": [
    {
     "data": {
      "text/html": [
       "<style  type=\"text/css\" >\n",
       "</style><table id=\"T_c89d54e6_084e_11eb_8315_34028626466f\" ><thead>    <tr>        <th class=\"blank level0\" ></th>        <th class=\"col_heading level0 col0\" >Total Count</th>        <th class=\"col_heading level0 col1\" >Percentage of Players</th>    </tr></thead><tbody>\n",
       "                <tr>\n",
       "                        <th id=\"T_c89d54e6_084e_11eb_8315_34028626466flevel0_row0\" class=\"row_heading level0 row0\" >Male</th>\n",
       "                        <td id=\"T_c89d54e6_084e_11eb_8315_34028626466frow0_col0\" class=\"data row0 col0\" >484</td>\n",
       "                        <td id=\"T_c89d54e6_084e_11eb_8315_34028626466frow0_col1\" class=\"data row0 col1\" >84.03%</td>\n",
       "            </tr>\n",
       "            <tr>\n",
       "                        <th id=\"T_c89d54e6_084e_11eb_8315_34028626466flevel0_row1\" class=\"row_heading level0 row1\" >Female</th>\n",
       "                        <td id=\"T_c89d54e6_084e_11eb_8315_34028626466frow1_col0\" class=\"data row1 col0\" >81</td>\n",
       "                        <td id=\"T_c89d54e6_084e_11eb_8315_34028626466frow1_col1\" class=\"data row1 col1\" >14.06%</td>\n",
       "            </tr>\n",
       "            <tr>\n",
       "                        <th id=\"T_c89d54e6_084e_11eb_8315_34028626466flevel0_row2\" class=\"row_heading level0 row2\" >Other / Non-Disclosed</th>\n",
       "                        <td id=\"T_c89d54e6_084e_11eb_8315_34028626466frow2_col0\" class=\"data row2 col0\" >11</td>\n",
       "                        <td id=\"T_c89d54e6_084e_11eb_8315_34028626466frow2_col1\" class=\"data row2 col1\" >1.91%</td>\n",
       "            </tr>\n",
       "    </tbody></table>"
      ],
      "text/plain": [
       "<pandas.io.formats.style.Styler at 0x17bb0057790>"
      ]
     },
     "execution_count": 39,
     "metadata": {},
     "output_type": "execute_result"
    }
   ],
   "source": [
    "gen_out = pd.DataFrame(player_data['Gender'].value_counts())\n",
    "gen_out = gen_out.rename(columns={'Gender': 'Total Count'})\n",
    "gen_out['Percentage of Players'] = gen_out['Total Count'] / total_players['Total Players'][0]\n",
    "gen_out.style.format({'Percentage of Players': '{:,.2%}'.format})"
   ]
  },
  {
   "cell_type": "markdown",
   "metadata": {},
   "source": [
    "\n",
    "## Purchasing Analysis (Gender)"
   ]
  },
  {
   "cell_type": "markdown",
   "metadata": {},
   "source": [
    "* Run basic calculations to obtain purchase count, avg. purchase price, avg. purchase total per person etc. by gender\n",
    "\n",
    "\n",
    "\n",
    "\n",
    "* Create a summary data frame to hold the results\n",
    "\n",
    "\n",
    "* Optional: give the displayed data cleaner formatting\n",
    "\n",
    "\n",
    "* Display the summary data frame"
   ]
  },
  {
   "cell_type": "code",
   "execution_count": 40,
   "metadata": {},
   "outputs": [
    {
     "data": {
      "text/html": [
       "<style  type=\"text/css\" >\n",
       "</style><table id=\"T_ccd1f9b2_084e_11eb_a61b_34028626466f\" ><thead>    <tr>        <th class=\"blank level0\" ></th>        <th class=\"col_heading level0 col0\" >Purchase Count</th>        <th class=\"col_heading level0 col1\" >Average Purchase Price</th>        <th class=\"col_heading level0 col2\" >Total Purchase Value</th>        <th class=\"col_heading level0 col3\" >Avg Total Purchase per Person</th>    </tr>    <tr>        <th class=\"index_name level0\" >Gender</th>        <th class=\"blank\" ></th>        <th class=\"blank\" ></th>        <th class=\"blank\" ></th>        <th class=\"blank\" ></th>    </tr></thead><tbody>\n",
       "                <tr>\n",
       "                        <th id=\"T_ccd1f9b2_084e_11eb_a61b_34028626466flevel0_row0\" class=\"row_heading level0 row0\" >Female</th>\n",
       "                        <td id=\"T_ccd1f9b2_084e_11eb_a61b_34028626466frow0_col0\" class=\"data row0 col0\" >113</td>\n",
       "                        <td id=\"T_ccd1f9b2_084e_11eb_a61b_34028626466frow0_col1\" class=\"data row0 col1\" >$3.20</td>\n",
       "                        <td id=\"T_ccd1f9b2_084e_11eb_a61b_34028626466frow0_col2\" class=\"data row0 col2\" >$361.94</td>\n",
       "                        <td id=\"T_ccd1f9b2_084e_11eb_a61b_34028626466frow0_col3\" class=\"data row0 col3\" >$4.47</td>\n",
       "            </tr>\n",
       "            <tr>\n",
       "                        <th id=\"T_ccd1f9b2_084e_11eb_a61b_34028626466flevel0_row1\" class=\"row_heading level0 row1\" >Male</th>\n",
       "                        <td id=\"T_ccd1f9b2_084e_11eb_a61b_34028626466frow1_col0\" class=\"data row1 col0\" >652</td>\n",
       "                        <td id=\"T_ccd1f9b2_084e_11eb_a61b_34028626466frow1_col1\" class=\"data row1 col1\" >$3.02</td>\n",
       "                        <td id=\"T_ccd1f9b2_084e_11eb_a61b_34028626466frow1_col2\" class=\"data row1 col2\" >$1,967.64</td>\n",
       "                        <td id=\"T_ccd1f9b2_084e_11eb_a61b_34028626466frow1_col3\" class=\"data row1 col3\" >$4.07</td>\n",
       "            </tr>\n",
       "            <tr>\n",
       "                        <th id=\"T_ccd1f9b2_084e_11eb_a61b_34028626466flevel0_row2\" class=\"row_heading level0 row2\" >Other / Non-Disclosed</th>\n",
       "                        <td id=\"T_ccd1f9b2_084e_11eb_a61b_34028626466frow2_col0\" class=\"data row2 col0\" >15</td>\n",
       "                        <td id=\"T_ccd1f9b2_084e_11eb_a61b_34028626466frow2_col1\" class=\"data row2 col1\" >$3.35</td>\n",
       "                        <td id=\"T_ccd1f9b2_084e_11eb_a61b_34028626466frow2_col2\" class=\"data row2 col2\" >$50.19</td>\n",
       "                        <td id=\"T_ccd1f9b2_084e_11eb_a61b_34028626466frow2_col3\" class=\"data row2 col3\" >$4.56</td>\n",
       "            </tr>\n",
       "    </tbody></table>"
      ],
      "text/plain": [
       "<pandas.io.formats.style.Styler at 0x17bb00e70d0>"
      ]
     },
     "execution_count": 40,
     "metadata": {},
     "output_type": "execute_result"
    }
   ],
   "source": [
    "purchase_gen = pd.DataFrame(purchase_data[['Gender','Price','Price','Price']])\n",
    "purchase_gen.columns = ['Gender','Purchase Count','Average Purchase Price', 'Total Purchase Value']\n",
    "purchase_gen = purchase_gen.groupby('Gender').agg({'Purchase Count':'count', 'Average Purchase Price':'mean', 'Total Purchase Value':'sum'})\n",
    "purchase_gen['Avg Total Purchase per Person'] = purchase_gen['Total Purchase Value'] / gen_out['Total Count']\n",
    "purchase_gen.style.format({'Average Purchase Price': '${:,.2f}'.format,'Total Purchase Value': '${:,.2f}'.format,'Avg Total Purchase per Person': '${:,.2f}'.format})\n"
   ]
  },
  {
   "cell_type": "markdown",
   "metadata": {},
   "source": [
    "## Age Demographics"
   ]
  },
  {
   "cell_type": "markdown",
   "metadata": {},
   "source": [
    "* Establish bins for ages\n",
    "\n",
    "\n",
    "* Categorize the existing players using the age bins. Hint: use pd.cut()\n",
    "\n",
    "\n",
    "* Calculate the numbers and percentages by age group\n",
    "\n",
    "\n",
    "* Create a summary data frame to hold the results\n",
    "\n",
    "\n",
    "* Optional: round the percentage column to two decimal points\n",
    "\n",
    "\n",
    "* Display Age Demographics Table\n"
   ]
  },
  {
   "cell_type": "code",
   "execution_count": 41,
   "metadata": {},
   "outputs": [
    {
     "data": {
      "text/html": [
       "<div>\n",
       "<style scoped>\n",
       "    .dataframe tbody tr th:only-of-type {\n",
       "        vertical-align: middle;\n",
       "    }\n",
       "\n",
       "    .dataframe tbody tr th {\n",
       "        vertical-align: top;\n",
       "    }\n",
       "\n",
       "    .dataframe thead th {\n",
       "        text-align: right;\n",
       "    }\n",
       "</style>\n",
       "<table border=\"1\" class=\"dataframe\">\n",
       "  <thead>\n",
       "    <tr style=\"text-align: right;\">\n",
       "      <th></th>\n",
       "      <th>Total Count</th>\n",
       "      <th>Percentage of Players</th>\n",
       "    </tr>\n",
       "  </thead>\n",
       "  <tbody>\n",
       "    <tr>\n",
       "      <th>&lt;10</th>\n",
       "      <td>17</td>\n",
       "      <td>2.95%</td>\n",
       "    </tr>\n",
       "    <tr>\n",
       "      <th>10-14</th>\n",
       "      <td>22</td>\n",
       "      <td>3.82%</td>\n",
       "    </tr>\n",
       "    <tr>\n",
       "      <th>15-19</th>\n",
       "      <td>107</td>\n",
       "      <td>18.58%</td>\n",
       "    </tr>\n",
       "    <tr>\n",
       "      <th>20-24</th>\n",
       "      <td>258</td>\n",
       "      <td>44.79%</td>\n",
       "    </tr>\n",
       "    <tr>\n",
       "      <th>25-29</th>\n",
       "      <td>77</td>\n",
       "      <td>13.37%</td>\n",
       "    </tr>\n",
       "    <tr>\n",
       "      <th>30-34</th>\n",
       "      <td>52</td>\n",
       "      <td>9.03%</td>\n",
       "    </tr>\n",
       "    <tr>\n",
       "      <th>35-39</th>\n",
       "      <td>31</td>\n",
       "      <td>5.38%</td>\n",
       "    </tr>\n",
       "    <tr>\n",
       "      <th>40+</th>\n",
       "      <td>12</td>\n",
       "      <td>2.08%</td>\n",
       "    </tr>\n",
       "  </tbody>\n",
       "</table>\n",
       "</div>"
      ],
      "text/plain": [
       "       Total Count Percentage of Players\n",
       "<10             17                 2.95%\n",
       "10-14           22                 3.82%\n",
       "15-19          107                18.58%\n",
       "20-24          258                44.79%\n",
       "25-29           77                13.37%\n",
       "30-34           52                 9.03%\n",
       "35-39           31                 5.38%\n",
       "40+             12                 2.08%"
      ]
     },
     "execution_count": 41,
     "metadata": {},
     "output_type": "execute_result"
    }
   ],
   "source": [
    "age_data = pd.DataFrame()\n",
    "bins = [0,9,14,19,24,29,34,39,1000]\n",
    "age_grps = ['<10','10-14','15-19','20-24','25-29','30-34','35-39','40+']\n",
    "age_data['Bins'] = pd.cut(player_data['Age'],bins, labels= age_grps, include_lowest=True)\n",
    "age_out = pd.DataFrame(age_data['Bins'].value_counts())\n",
    "age_out = age_out.rename(columns={'Bins': 'Total Count'})\n",
    "age_out['Percentage of Players'] = age_out['Total Count'] / total_players['Total Players'][0]\n",
    "age_out['Percentage of Players'] = age_out['Percentage of Players'].map('{:,.2%}'.format)\n",
    "age_out = age_out.sort_index()\n",
    "age_out"
   ]
  },
  {
   "cell_type": "markdown",
   "metadata": {},
   "source": [
    "## Purchasing Analysis (Age)"
   ]
  },
  {
   "cell_type": "markdown",
   "metadata": {},
   "source": [
    "* Bin the purchase_data data frame by age\n",
    "\n",
    "\n",
    "* Run basic calculations to obtain purchase count, avg. purchase price, avg. purchase total per person etc. in the table below\n",
    "\n",
    "\n",
    "* Create a summary data frame to hold the results\n",
    "\n",
    "\n",
    "* Optional: give the displayed data cleaner formatting\n",
    "\n",
    "\n",
    "* Display the summary data frame"
   ]
  },
  {
   "cell_type": "code",
   "execution_count": 46,
   "metadata": {},
   "outputs": [
    {
     "data": {
      "text/html": [
       "<style  type=\"text/css\" >\n",
       "</style><table id=\"T_295cd37e_0858_11eb_83e0_34028626466f\" ><thead>    <tr>        <th class=\"blank level0\" ></th>        <th class=\"col_heading level0 col0\" >Purchase Count</th>        <th class=\"col_heading level0 col1\" >Average Purchase Price</th>        <th class=\"col_heading level0 col2\" >Total Purchase Value</th>        <th class=\"col_heading level0 col3\" >Avg Total Purchase per Person</th>    </tr>    <tr>        <th class=\"index_name level0\" >Age Ranges</th>        <th class=\"blank\" ></th>        <th class=\"blank\" ></th>        <th class=\"blank\" ></th>        <th class=\"blank\" ></th>    </tr></thead><tbody>\n",
       "                <tr>\n",
       "                        <th id=\"T_295cd37e_0858_11eb_83e0_34028626466flevel0_row0\" class=\"row_heading level0 row0\" ><10</th>\n",
       "                        <td id=\"T_295cd37e_0858_11eb_83e0_34028626466frow0_col0\" class=\"data row0 col0\" >23</td>\n",
       "                        <td id=\"T_295cd37e_0858_11eb_83e0_34028626466frow0_col1\" class=\"data row0 col1\" >$3.35</td>\n",
       "                        <td id=\"T_295cd37e_0858_11eb_83e0_34028626466frow0_col2\" class=\"data row0 col2\" >$77.13</td>\n",
       "                        <td id=\"T_295cd37e_0858_11eb_83e0_34028626466frow0_col3\" class=\"data row0 col3\" >$4.54</td>\n",
       "            </tr>\n",
       "            <tr>\n",
       "                        <th id=\"T_295cd37e_0858_11eb_83e0_34028626466flevel0_row1\" class=\"row_heading level0 row1\" >10-14</th>\n",
       "                        <td id=\"T_295cd37e_0858_11eb_83e0_34028626466frow1_col0\" class=\"data row1 col0\" >28</td>\n",
       "                        <td id=\"T_295cd37e_0858_11eb_83e0_34028626466frow1_col1\" class=\"data row1 col1\" >$2.96</td>\n",
       "                        <td id=\"T_295cd37e_0858_11eb_83e0_34028626466frow1_col2\" class=\"data row1 col2\" >$82.78</td>\n",
       "                        <td id=\"T_295cd37e_0858_11eb_83e0_34028626466frow1_col3\" class=\"data row1 col3\" >$3.76</td>\n",
       "            </tr>\n",
       "            <tr>\n",
       "                        <th id=\"T_295cd37e_0858_11eb_83e0_34028626466flevel0_row2\" class=\"row_heading level0 row2\" >15-19</th>\n",
       "                        <td id=\"T_295cd37e_0858_11eb_83e0_34028626466frow2_col0\" class=\"data row2 col0\" >136</td>\n",
       "                        <td id=\"T_295cd37e_0858_11eb_83e0_34028626466frow2_col1\" class=\"data row2 col1\" >$3.04</td>\n",
       "                        <td id=\"T_295cd37e_0858_11eb_83e0_34028626466frow2_col2\" class=\"data row2 col2\" >$412.89</td>\n",
       "                        <td id=\"T_295cd37e_0858_11eb_83e0_34028626466frow2_col3\" class=\"data row2 col3\" >$3.86</td>\n",
       "            </tr>\n",
       "            <tr>\n",
       "                        <th id=\"T_295cd37e_0858_11eb_83e0_34028626466flevel0_row3\" class=\"row_heading level0 row3\" >20-24</th>\n",
       "                        <td id=\"T_295cd37e_0858_11eb_83e0_34028626466frow3_col0\" class=\"data row3 col0\" >365</td>\n",
       "                        <td id=\"T_295cd37e_0858_11eb_83e0_34028626466frow3_col1\" class=\"data row3 col1\" >$3.05</td>\n",
       "                        <td id=\"T_295cd37e_0858_11eb_83e0_34028626466frow3_col2\" class=\"data row3 col2\" >$1,114.06</td>\n",
       "                        <td id=\"T_295cd37e_0858_11eb_83e0_34028626466frow3_col3\" class=\"data row3 col3\" >$4.32</td>\n",
       "            </tr>\n",
       "            <tr>\n",
       "                        <th id=\"T_295cd37e_0858_11eb_83e0_34028626466flevel0_row4\" class=\"row_heading level0 row4\" >25-29</th>\n",
       "                        <td id=\"T_295cd37e_0858_11eb_83e0_34028626466frow4_col0\" class=\"data row4 col0\" >101</td>\n",
       "                        <td id=\"T_295cd37e_0858_11eb_83e0_34028626466frow4_col1\" class=\"data row4 col1\" >$2.90</td>\n",
       "                        <td id=\"T_295cd37e_0858_11eb_83e0_34028626466frow4_col2\" class=\"data row4 col2\" >$293.00</td>\n",
       "                        <td id=\"T_295cd37e_0858_11eb_83e0_34028626466frow4_col3\" class=\"data row4 col3\" >$3.81</td>\n",
       "            </tr>\n",
       "            <tr>\n",
       "                        <th id=\"T_295cd37e_0858_11eb_83e0_34028626466flevel0_row5\" class=\"row_heading level0 row5\" >30-34</th>\n",
       "                        <td id=\"T_295cd37e_0858_11eb_83e0_34028626466frow5_col0\" class=\"data row5 col0\" >73</td>\n",
       "                        <td id=\"T_295cd37e_0858_11eb_83e0_34028626466frow5_col1\" class=\"data row5 col1\" >$2.93</td>\n",
       "                        <td id=\"T_295cd37e_0858_11eb_83e0_34028626466frow5_col2\" class=\"data row5 col2\" >$214.00</td>\n",
       "                        <td id=\"T_295cd37e_0858_11eb_83e0_34028626466frow5_col3\" class=\"data row5 col3\" >$4.12</td>\n",
       "            </tr>\n",
       "            <tr>\n",
       "                        <th id=\"T_295cd37e_0858_11eb_83e0_34028626466flevel0_row6\" class=\"row_heading level0 row6\" >35-39</th>\n",
       "                        <td id=\"T_295cd37e_0858_11eb_83e0_34028626466frow6_col0\" class=\"data row6 col0\" >41</td>\n",
       "                        <td id=\"T_295cd37e_0858_11eb_83e0_34028626466frow6_col1\" class=\"data row6 col1\" >$3.60</td>\n",
       "                        <td id=\"T_295cd37e_0858_11eb_83e0_34028626466frow6_col2\" class=\"data row6 col2\" >$147.67</td>\n",
       "                        <td id=\"T_295cd37e_0858_11eb_83e0_34028626466frow6_col3\" class=\"data row6 col3\" >$4.76</td>\n",
       "            </tr>\n",
       "            <tr>\n",
       "                        <th id=\"T_295cd37e_0858_11eb_83e0_34028626466flevel0_row7\" class=\"row_heading level0 row7\" >40+</th>\n",
       "                        <td id=\"T_295cd37e_0858_11eb_83e0_34028626466frow7_col0\" class=\"data row7 col0\" >13</td>\n",
       "                        <td id=\"T_295cd37e_0858_11eb_83e0_34028626466frow7_col1\" class=\"data row7 col1\" >$2.94</td>\n",
       "                        <td id=\"T_295cd37e_0858_11eb_83e0_34028626466frow7_col2\" class=\"data row7 col2\" >$38.24</td>\n",
       "                        <td id=\"T_295cd37e_0858_11eb_83e0_34028626466frow7_col3\" class=\"data row7 col3\" >$3.19</td>\n",
       "            </tr>\n",
       "    </tbody></table>"
      ],
      "text/plain": [
       "<pandas.io.formats.style.Styler at 0x17baef0c670>"
      ]
     },
     "execution_count": 46,
     "metadata": {},
     "output_type": "execute_result"
    }
   ],
   "source": [
    "purchase_age = pd.DataFrame(purchase_data[['Age','Price','Price','Price']])\n",
    "purchase_age.columns = ['Age','Purchase Count','Average Purchase Price','Total Purchase Value']\n",
    "purchase_age['Age Ranges'] = pd.cut(purchase_age['Age'],bins, labels= age_grps, include_lowest=True)\n",
    "purchase_age = purchase_age.groupby('Age Ranges').agg({'Purchase Count':'count', 'Average Purchase Price':'mean', 'Total Purchase Value':'sum'})\n",
    "purchase_age['Avg Total Purchase per Person'] = purchase_age['Total Purchase Value'] / age_out['Total Count']\n",
    "purchase_age.style.format({'Average Purchase Price': '${:,.2f}'.format,'Total Purchase Value': '${:,.2f}'.format,'Avg Total Purchase per Person': '${:,.2f}'.format})\n"
   ]
  },
  {
   "cell_type": "markdown",
   "metadata": {},
   "source": [
    "## Top Spenders"
   ]
  },
  {
   "cell_type": "markdown",
   "metadata": {},
   "source": [
    "* Run basic calculations to obtain the results in the table below\n",
    "\n",
    "\n",
    "* Create a summary data frame to hold the results\n",
    "\n",
    "\n",
    "* Sort the total purchase value column in descending order\n",
    "\n",
    "\n",
    "* Optional: give the displayed data cleaner formatting\n",
    "\n",
    "\n",
    "* Display a preview of the summary data frame\n",
    "\n"
   ]
  },
  {
   "cell_type": "code",
   "execution_count": 43,
   "metadata": {
    "scrolled": false
   },
   "outputs": [
    {
     "data": {
      "text/html": [
       "<div>\n",
       "<style scoped>\n",
       "    .dataframe tbody tr th:only-of-type {\n",
       "        vertical-align: middle;\n",
       "    }\n",
       "\n",
       "    .dataframe tbody tr th {\n",
       "        vertical-align: top;\n",
       "    }\n",
       "\n",
       "    .dataframe thead th {\n",
       "        text-align: right;\n",
       "    }\n",
       "</style>\n",
       "<table border=\"1\" class=\"dataframe\">\n",
       "  <thead>\n",
       "    <tr style=\"text-align: right;\">\n",
       "      <th></th>\n",
       "      <th>Purchase Count</th>\n",
       "      <th>Average Purchase Price</th>\n",
       "      <th>Total Purchase Value</th>\n",
       "    </tr>\n",
       "    <tr>\n",
       "      <th>SN</th>\n",
       "      <th></th>\n",
       "      <th></th>\n",
       "      <th></th>\n",
       "    </tr>\n",
       "  </thead>\n",
       "  <tbody>\n",
       "    <tr>\n",
       "      <th>Lisosia93</th>\n",
       "      <td>5</td>\n",
       "      <td>$3.79</td>\n",
       "      <td>$18.96</td>\n",
       "    </tr>\n",
       "    <tr>\n",
       "      <th>Idastidru52</th>\n",
       "      <td>4</td>\n",
       "      <td>$3.86</td>\n",
       "      <td>$15.45</td>\n",
       "    </tr>\n",
       "    <tr>\n",
       "      <th>Chamjask73</th>\n",
       "      <td>3</td>\n",
       "      <td>$4.61</td>\n",
       "      <td>$13.83</td>\n",
       "    </tr>\n",
       "    <tr>\n",
       "      <th>Iral74</th>\n",
       "      <td>4</td>\n",
       "      <td>$3.40</td>\n",
       "      <td>$13.62</td>\n",
       "    </tr>\n",
       "    <tr>\n",
       "      <th>Iskadarya95</th>\n",
       "      <td>3</td>\n",
       "      <td>$4.37</td>\n",
       "      <td>$13.10</td>\n",
       "    </tr>\n",
       "  </tbody>\n",
       "</table>\n",
       "</div>"
      ],
      "text/plain": [
       "             Purchase Count Average Purchase Price Total Purchase Value\n",
       "SN                                                                     \n",
       "Lisosia93                 5                  $3.79               $18.96\n",
       "Idastidru52               4                  $3.86               $15.45\n",
       "Chamjask73                3                  $4.61               $13.83\n",
       "Iral74                    4                  $3.40               $13.62\n",
       "Iskadarya95               3                  $4.37               $13.10"
      ]
     },
     "execution_count": 43,
     "metadata": {},
     "output_type": "execute_result"
    }
   ],
   "source": [
    "spend_data = pd.DataFrame(purchase_data[['SN','Price','Price','Price']])\n",
    "spend_data.columns = ['SN','Purchase Count','Average Purchase Price','Total Purchase Value']\n",
    "spend_data = spend_data.groupby('SN').agg({'Purchase Count':'count', 'Average Purchase Price':'mean', 'Total Purchase Value':'sum'})\n",
    "spend_data = spend_data.nlargest(total_players['Total Players'][0],'Total Purchase Value')\n",
    "spend_data['Average Purchase Price'] = spend_data['Average Purchase Price'].map('${:,.2f}'.format)\n",
    "spend_data['Total Purchase Value'] = spend_data['Total Purchase Value'].map('${:,.2f}'.format)\n",
    "spend_data.head()"
   ]
  },
  {
   "cell_type": "markdown",
   "metadata": {},
   "source": [
    "## Most Popular Items"
   ]
  },
  {
   "cell_type": "markdown",
   "metadata": {},
   "source": [
    "* Retrieve the Item ID, Item Name, and Item Price columns\n",
    "\n",
    "\n",
    "* Group by Item ID and Item Name. Perform calculations to obtain purchase count, average item price, and total purchase value\n",
    "\n",
    "\n",
    "* Create a summary data frame to hold the results\n",
    "\n",
    "\n",
    "* Sort the purchase count column in descending order\n",
    "\n",
    "\n",
    "* Optional: give the displayed data cleaner formatting\n",
    "\n",
    "\n",
    "* Display a preview of the summary data frame\n",
    "\n"
   ]
  },
  {
   "cell_type": "code",
   "execution_count": 44,
   "metadata": {},
   "outputs": [
    {
     "data": {
      "text/html": [
       "<style  type=\"text/css\" >\n",
       "</style><table id=\"T_d6d6c5b7_084e_11eb_9b6c_34028626466f\" ><thead>    <tr>        <th class=\"blank\" ></th>        <th class=\"blank level0\" ></th>        <th class=\"col_heading level0 col0\" >Purchase Count</th>        <th class=\"col_heading level0 col1\" >Item Price</th>        <th class=\"col_heading level0 col2\" >Total Purchase Value</th>    </tr>    <tr>        <th class=\"index_name level0\" >Item ID</th>        <th class=\"index_name level1\" >Item Name</th>        <th class=\"blank\" ></th>        <th class=\"blank\" ></th>        <th class=\"blank\" ></th>    </tr></thead><tbody>\n",
       "                <tr>\n",
       "                        <th id=\"T_d6d6c5b7_084e_11eb_9b6c_34028626466flevel0_row0\" class=\"row_heading level0 row0\" >92</th>\n",
       "                        <th id=\"T_d6d6c5b7_084e_11eb_9b6c_34028626466flevel1_row0\" class=\"row_heading level1 row0\" >Final Critic</th>\n",
       "                        <td id=\"T_d6d6c5b7_084e_11eb_9b6c_34028626466frow0_col0\" class=\"data row0 col0\" >13</td>\n",
       "                        <td id=\"T_d6d6c5b7_084e_11eb_9b6c_34028626466frow0_col1\" class=\"data row0 col1\" >$4.61</td>\n",
       "                        <td id=\"T_d6d6c5b7_084e_11eb_9b6c_34028626466frow0_col2\" class=\"data row0 col2\" >$59.99</td>\n",
       "            </tr>\n",
       "            <tr>\n",
       "                        <th id=\"T_d6d6c5b7_084e_11eb_9b6c_34028626466flevel0_row1\" class=\"row_heading level0 row1\" >178</th>\n",
       "                        <th id=\"T_d6d6c5b7_084e_11eb_9b6c_34028626466flevel1_row1\" class=\"row_heading level1 row1\" >Oathbreaker, Last Hope of the Breaking Storm</th>\n",
       "                        <td id=\"T_d6d6c5b7_084e_11eb_9b6c_34028626466frow1_col0\" class=\"data row1 col0\" >12</td>\n",
       "                        <td id=\"T_d6d6c5b7_084e_11eb_9b6c_34028626466frow1_col1\" class=\"data row1 col1\" >$4.23</td>\n",
       "                        <td id=\"T_d6d6c5b7_084e_11eb_9b6c_34028626466frow1_col2\" class=\"data row1 col2\" >$50.76</td>\n",
       "            </tr>\n",
       "            <tr>\n",
       "                        <th id=\"T_d6d6c5b7_084e_11eb_9b6c_34028626466flevel0_row2\" class=\"row_heading level0 row2\" >145</th>\n",
       "                        <th id=\"T_d6d6c5b7_084e_11eb_9b6c_34028626466flevel1_row2\" class=\"row_heading level1 row2\" >Fiery Glass Crusader</th>\n",
       "                        <td id=\"T_d6d6c5b7_084e_11eb_9b6c_34028626466frow2_col0\" class=\"data row2 col0\" >9</td>\n",
       "                        <td id=\"T_d6d6c5b7_084e_11eb_9b6c_34028626466frow2_col1\" class=\"data row2 col1\" >$4.58</td>\n",
       "                        <td id=\"T_d6d6c5b7_084e_11eb_9b6c_34028626466frow2_col2\" class=\"data row2 col2\" >$41.22</td>\n",
       "            </tr>\n",
       "            <tr>\n",
       "                        <th id=\"T_d6d6c5b7_084e_11eb_9b6c_34028626466flevel0_row3\" class=\"row_heading level0 row3\" >132</th>\n",
       "                        <th id=\"T_d6d6c5b7_084e_11eb_9b6c_34028626466flevel1_row3\" class=\"row_heading level1 row3\" >Persuasion</th>\n",
       "                        <td id=\"T_d6d6c5b7_084e_11eb_9b6c_34028626466frow3_col0\" class=\"data row3 col0\" >9</td>\n",
       "                        <td id=\"T_d6d6c5b7_084e_11eb_9b6c_34028626466frow3_col1\" class=\"data row3 col1\" >$3.22</td>\n",
       "                        <td id=\"T_d6d6c5b7_084e_11eb_9b6c_34028626466frow3_col2\" class=\"data row3 col2\" >$28.99</td>\n",
       "            </tr>\n",
       "            <tr>\n",
       "                        <th id=\"T_d6d6c5b7_084e_11eb_9b6c_34028626466flevel0_row4\" class=\"row_heading level0 row4\" >108</th>\n",
       "                        <th id=\"T_d6d6c5b7_084e_11eb_9b6c_34028626466flevel1_row4\" class=\"row_heading level1 row4\" >Extraction, Quickblade Of Trembling Hands</th>\n",
       "                        <td id=\"T_d6d6c5b7_084e_11eb_9b6c_34028626466frow4_col0\" class=\"data row4 col0\" >9</td>\n",
       "                        <td id=\"T_d6d6c5b7_084e_11eb_9b6c_34028626466frow4_col1\" class=\"data row4 col1\" >$3.53</td>\n",
       "                        <td id=\"T_d6d6c5b7_084e_11eb_9b6c_34028626466frow4_col2\" class=\"data row4 col2\" >$31.77</td>\n",
       "            </tr>\n",
       "    </tbody></table>"
      ],
      "text/plain": [
       "<pandas.io.formats.style.Styler at 0x17bb00e7fd0>"
      ]
     },
     "execution_count": 44,
     "metadata": {},
     "output_type": "execute_result"
    }
   ],
   "source": [
    "item_data = pd.DataFrame(purchase_data[['Item ID','Item Name','Price','Price','Price']])\n",
    "item_data.columns = ['Item ID','Item Name','Purchase Count','Item Price','Total Purchase Value']\n",
    "item_data = item_data.groupby(['Item ID','Item Name']).agg({'Purchase Count':'count', 'Item Price':'mean', 'Total Purchase Value':'sum'})\n",
    "item_data = item_data.nlargest(len(item_data),'Purchase Count')\n",
    "item_data.head().style.format({'Item Price': '${:,.2f}'.format,'Total Purchase Value': '${:,.2f}'.format})"
   ]
  },
  {
   "cell_type": "markdown",
   "metadata": {},
   "source": [
    "## Most Profitable Items"
   ]
  },
  {
   "cell_type": "markdown",
   "metadata": {},
   "source": [
    "* Sort the above table by total purchase value in descending order\n",
    "\n",
    "\n",
    "* Optional: give the displayed data cleaner formatting\n",
    "\n",
    "\n",
    "* Display a preview of the data frame\n",
    "\n"
   ]
  },
  {
   "cell_type": "code",
   "execution_count": 45,
   "metadata": {
    "scrolled": true
   },
   "outputs": [
    {
     "data": {
      "text/html": [
       "<style  type=\"text/css\" >\n",
       "</style><table id=\"T_da93a035_084e_11eb_a5f8_34028626466f\" ><thead>    <tr>        <th class=\"blank\" ></th>        <th class=\"blank level0\" ></th>        <th class=\"col_heading level0 col0\" >Purchase Count</th>        <th class=\"col_heading level0 col1\" >Item Price</th>        <th class=\"col_heading level0 col2\" >Total Purchase Value</th>    </tr>    <tr>        <th class=\"index_name level0\" >Item ID</th>        <th class=\"index_name level1\" >Item Name</th>        <th class=\"blank\" ></th>        <th class=\"blank\" ></th>        <th class=\"blank\" ></th>    </tr></thead><tbody>\n",
       "                <tr>\n",
       "                        <th id=\"T_da93a035_084e_11eb_a5f8_34028626466flevel0_row0\" class=\"row_heading level0 row0\" >92</th>\n",
       "                        <th id=\"T_da93a035_084e_11eb_a5f8_34028626466flevel1_row0\" class=\"row_heading level1 row0\" >Final Critic</th>\n",
       "                        <td id=\"T_da93a035_084e_11eb_a5f8_34028626466frow0_col0\" class=\"data row0 col0\" >13</td>\n",
       "                        <td id=\"T_da93a035_084e_11eb_a5f8_34028626466frow0_col1\" class=\"data row0 col1\" >$4.61</td>\n",
       "                        <td id=\"T_da93a035_084e_11eb_a5f8_34028626466frow0_col2\" class=\"data row0 col2\" >$59.99</td>\n",
       "            </tr>\n",
       "            <tr>\n",
       "                        <th id=\"T_da93a035_084e_11eb_a5f8_34028626466flevel0_row1\" class=\"row_heading level0 row1\" >178</th>\n",
       "                        <th id=\"T_da93a035_084e_11eb_a5f8_34028626466flevel1_row1\" class=\"row_heading level1 row1\" >Oathbreaker, Last Hope of the Breaking Storm</th>\n",
       "                        <td id=\"T_da93a035_084e_11eb_a5f8_34028626466frow1_col0\" class=\"data row1 col0\" >12</td>\n",
       "                        <td id=\"T_da93a035_084e_11eb_a5f8_34028626466frow1_col1\" class=\"data row1 col1\" >$4.23</td>\n",
       "                        <td id=\"T_da93a035_084e_11eb_a5f8_34028626466frow1_col2\" class=\"data row1 col2\" >$50.76</td>\n",
       "            </tr>\n",
       "            <tr>\n",
       "                        <th id=\"T_da93a035_084e_11eb_a5f8_34028626466flevel0_row2\" class=\"row_heading level0 row2\" >82</th>\n",
       "                        <th id=\"T_da93a035_084e_11eb_a5f8_34028626466flevel1_row2\" class=\"row_heading level1 row2\" >Nirvana</th>\n",
       "                        <td id=\"T_da93a035_084e_11eb_a5f8_34028626466frow2_col0\" class=\"data row2 col0\" >9</td>\n",
       "                        <td id=\"T_da93a035_084e_11eb_a5f8_34028626466frow2_col1\" class=\"data row2 col1\" >$4.90</td>\n",
       "                        <td id=\"T_da93a035_084e_11eb_a5f8_34028626466frow2_col2\" class=\"data row2 col2\" >$44.10</td>\n",
       "            </tr>\n",
       "            <tr>\n",
       "                        <th id=\"T_da93a035_084e_11eb_a5f8_34028626466flevel0_row3\" class=\"row_heading level0 row3\" >145</th>\n",
       "                        <th id=\"T_da93a035_084e_11eb_a5f8_34028626466flevel1_row3\" class=\"row_heading level1 row3\" >Fiery Glass Crusader</th>\n",
       "                        <td id=\"T_da93a035_084e_11eb_a5f8_34028626466frow3_col0\" class=\"data row3 col0\" >9</td>\n",
       "                        <td id=\"T_da93a035_084e_11eb_a5f8_34028626466frow3_col1\" class=\"data row3 col1\" >$4.58</td>\n",
       "                        <td id=\"T_da93a035_084e_11eb_a5f8_34028626466frow3_col2\" class=\"data row3 col2\" >$41.22</td>\n",
       "            </tr>\n",
       "            <tr>\n",
       "                        <th id=\"T_da93a035_084e_11eb_a5f8_34028626466flevel0_row4\" class=\"row_heading level0 row4\" >103</th>\n",
       "                        <th id=\"T_da93a035_084e_11eb_a5f8_34028626466flevel1_row4\" class=\"row_heading level1 row4\" >Singed Scalpel</th>\n",
       "                        <td id=\"T_da93a035_084e_11eb_a5f8_34028626466frow4_col0\" class=\"data row4 col0\" >8</td>\n",
       "                        <td id=\"T_da93a035_084e_11eb_a5f8_34028626466frow4_col1\" class=\"data row4 col1\" >$4.35</td>\n",
       "                        <td id=\"T_da93a035_084e_11eb_a5f8_34028626466frow4_col2\" class=\"data row4 col2\" >$34.80</td>\n",
       "            </tr>\n",
       "    </tbody></table>"
      ],
      "text/plain": [
       "<pandas.io.formats.style.Styler at 0x17baef0ce50>"
      ]
     },
     "execution_count": 45,
     "metadata": {},
     "output_type": "execute_result"
    }
   ],
   "source": [
    "item_data = item_data.nlargest(len(item_data),'Total Purchase Value')\n",
    "item_data.head().style.format({'Item Price': '${:,.2f}'.format,'Total Purchase Value': '${:,.2f}'.format})"
   ]
  },
  {
   "cell_type": "code",
   "execution_count": null,
   "metadata": {},
   "outputs": [],
   "source": []
  }
 ],
 "metadata": {
  "anaconda-cloud": {},
  "kernel_info": {
   "name": "python3"
  },
  "kernelspec": {
   "display_name": "Python 3",
   "language": "python",
   "name": "python3"
  },
  "language_info": {
   "codemirror_mode": {
    "name": "ipython",
    "version": 3
   },
   "file_extension": ".py",
   "mimetype": "text/x-python",
   "name": "python",
   "nbconvert_exporter": "python",
   "pygments_lexer": "ipython3",
   "version": "3.8.3"
  },
  "latex_envs": {
   "LaTeX_envs_menu_present": true,
   "autoclose": false,
   "autocomplete": true,
   "bibliofile": "biblio.bib",
   "cite_by": "apalike",
   "current_citInitial": 1,
   "eqLabelWithNumbers": true,
   "eqNumInitial": 1,
   "hotkeys": {
    "equation": "Ctrl-E",
    "itemize": "Ctrl-I"
   },
   "labels_anchors": false,
   "latex_user_defs": false,
   "report_style_numbering": false,
   "user_envs_cfg": false
  },
  "nteract": {
   "version": "0.2.0"
  }
 },
 "nbformat": 4,
 "nbformat_minor": 2
}
